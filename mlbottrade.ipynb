{
 "cells": [
  {
   "cell_type": "code",
   "execution_count": 73,
   "metadata": {
    "collapsed": false
   },
   "outputs": [],
   "source": [
    "import numpy as np\n",
    "import pandas as pd\n",
    "import talib \n",
    "from datetime import datetime\n",
    "from binance.client import Client"
   ]
  },
  {
   "cell_type": "code",
   "execution_count": 90,
   "metadata": {
    "ExecuteTime": {
     "end_time": "2024-05-17T13:45:16.655673700Z",
     "start_time": "2024-05-17T13:45:13.651929200Z"
    },
    "collapsed": false,
    "pycharm": {
     "is_executing": true
    }
   },
   "outputs": [],
   "source": [
    "client = Client('JLCON0ZJ9v4zX595o2W1rlvSIhIercTu2ugNLCMPZ88QAt8zvSe2vY3LDiiRjKMB','JMnozKSUlep8mBrXCW1b7mAdHDl5qcYv3GDfNOquyifCdbD4QmGXILR9A5V0FgKf') \n",
    "start_str = 'Jun 15 2022'\n",
    "end_str = 'DEC 15 2024'\n",
    "coin ='SOL'\n",
    "klines = client.get_historical_klines(symbol=f'{coin}USDT', interval=client.KLINE_INTERVAL_4HOUR, start_str=start_str,end_str=end_str)  \n",
    "df = pd.DataFrame(klines)\n",
    "df = df.iloc[:,:6] \n",
    "df.columns = ['time','open','high','low','close','volume']\n",
    "df = df.astype(float) \n",
    "df['time'] = [datetime.fromtimestamp(ts / 1000) for ts in df['time']] \n",
    "df1  = df"
   ]
  },
  {
   "cell_type": "code",
   "execution_count": 93,
   "metadata": {
    "ExecuteTime": {
     "end_time": "2024-05-17T13:45:16.777687Z",
     "start_time": "2024-05-17T13:45:16.670879100Z"
    },
    "collapsed": false
   },
   "outputs": [],
   "source": [
    "open = df['open']\n",
    "high = df['high']\n",
    "low  = df['low']\n",
    "close = df['close']\n",
    "volume = df['volume']\n",
    "df.dropna()\n",
    "avg = (df['high'] + df['low']) / 2\n",
    "\n",
    "\n",
    "df['BBANDS_upperband'], df['BBANDS_middleband'], df['BBANDS_lowerband'] = talib.BBANDS(close, timeperiod=5, nbdevup=2, nbdevdn=2, matype=0)\n",
    "df['BBANDS_upperband'] = (df['BBANDS_upperband'] - avg) / close\n",
    "df['BBANDS_middleband'] = (df['BBANDS_middleband'] - avg) / close\n",
    "df['BBANDS_lowerband'] = (df['BBANDS_lowerband'] - avg) / close\n",
    "df['DEMA'] = (talib.DEMA(close, timeperiod=30) - avg) / close\n",
    "df['EMA'] = (talib.EMA(close, timeperiod=30) - avg) / close\n",
    "df['HT_TRENDLINE'] = (talib.HT_TRENDLINE(close) - avg) / close\n",
    "df['KAMA'] = (talib.KAMA(close, timeperiod=30) - avg) / close\n",
    "df['MA'] = (talib.MA(close, timeperiod=30, matype=0) - avg) / close\n",
    "df['MIDPOINT'] = (talib.MIDPOINT(close, timeperiod=14) - avg) / close\n",
    "df['SMA'] = (talib.SMA(close, timeperiod=30) - avg) / close\n",
    "df['T3'] = (talib.T3(close, timeperiod=5, vfactor=0) - avg) / close\n",
    "df['TEMA'] = (talib.TEMA(close, timeperiod=30) - avg) / close\n",
    "df['TRIMA'] = (talib.TRIMA(close, timeperiod=30) - avg) / close\n",
    "df['WMA'] = (talib.WMA(close, timeperiod=30) - avg) / close\n",
    "df['LINEARREG'] = (talib.LINEARREG(close, timeperiod=14) - close) / close\n",
    "df['LINEARREG_INTERCEPT'] = (talib.LINEARREG_INTERCEPT(close, timeperiod=14) - close) / close\n",
    "\n",
    "df['AD'] = talib.AD(high, low, close, volume) / close\n",
    "df['ADOSC'] = talib.ADOSC(high, low, close, volume, fastperiod=3, slowperiod=10) / close\n",
    "df['APO'] = talib.APO(close, fastperiod=12, slowperiod=26, matype=0) / close\n",
    "df['HT_PHASOR_inphase'], df['HT_PHASOR_quadrature'] = talib.HT_PHASOR(close)\n",
    "df['HT_PHASOR_inphase'] /= close\n",
    "df['HT_PHASOR_quadrature'] /= close\n",
    "df['LINEARREG_SLOPE'] = talib.LINEARREG_SLOPE(close, timeperiod=14) / close\n",
    "df['MACD_macd'], df['MACD_macdsignal'], df['MACD_macdhist'] = talib.MACD(close, fastperiod=12, slowperiod=26, signalperiod=9)\n",
    "df['MACD_macd'] /= close\n",
    "df['MACD_macdsignal'] /= close\n",
    "df['MACD_macdhist'] /= close\n",
    "df['MINUS_DM'] = talib.MINUS_DM(high, low, timeperiod=14) / close\n",
    "df['MOM'] = talib.MOM(close, timeperiod=10) / close\n",
    "df['OBV'] = talib.OBV(close, volume) / close\n",
    "df['PLUS_DM'] = talib.PLUS_DM(high, low, timeperiod=14) / close\n",
    "df['STDDEV'] = talib.STDDEV(close, timeperiod=5, nbdev=1) / close\n",
    "df['TRANGE'] = talib.TRANGE(high, low, close) / close\n",
    "\n",
    "\n",
    "df['ADX'] = talib.ADX(high, low, close, timeperiod=14)\n",
    "df['ADXR'] = talib.ADXR(high, low, close, timeperiod=14)\n",
    "df['AROON_aroondown'], df['AROON_aroonup'] = talib.AROON(high, low, timeperiod=14)\n",
    "df['AROONOSC'] = talib.AROONOSC(high, low, timeperiod=14)\n",
    "df['BOP'] = talib.BOP(open, high, low, close)\n",
    "df['CCI'] = talib.CCI(high, low, close, timeperiod=14)\n",
    "df['DX'] = talib.DX(high, low, close, timeperiod=14)\n",
    "\n",
    "df['MFI'] = talib.MFI(high, low, close, volume, timeperiod=14)\n",
    "df['MINUS_DI'] = talib.MINUS_DI(high, low, close, timeperiod=14)\n",
    "df['PLUS_DI'] = talib.PLUS_DI(high, low, close, timeperiod=14)\n",
    "df['RSI'] = talib.RSI(close, timeperiod=14)\n",
    "df['STOCH_slowk'], df['STOCH_slowd'] = talib.STOCH(high, low, close, fastk_period=5, slowk_period=3, slowk_matype=0, slowd_period=3, slowd_matype=0)\n",
    "df['STOCHF_fastk'], df['STOCHF_fastd'] = talib.STOCHF(high, low, close, fastk_period=5, fastd_period=3, fastd_matype=0)\n",
    "df['STOCHRSI_fastk'], df['STOCHRSI_fastd'] = talib.STOCHRSI(close, timeperiod=14, fastk_period=5, fastd_period=3, fastd_matype=0)\n",
    "df['TRIX'] = talib.TRIX(close, timeperiod=30)\n",
    "df['ULTOSC'] = talib.ULTOSC(high, low, close, timeperiod1=7, timeperiod2=14, timeperiod3=28)\n",
    "df['WILLR'] = talib.WILLR(high, low, close, timeperiod=14)\n",
    "\n",
    "df['ATR'] = talib.ATR(high, low, close, timeperiod=14)  \n",
    "df['NATR'] = talib.NATR(high, low, close, timeperiod=14)\n",
    "\n",
    "df['HT_DCPERIOD'] = talib.HT_DCPERIOD(close)\n",
    "df['HT_DCPHASE'] = talib.HT_DCPHASE(close)\n",
    "df['HT_SINE_sine'], df['HT_SINE_leadsine'] = talib.HT_SINE(close)\n",
    "df['HT_TRENDMODE'] = talib.HT_TRENDMODE(close)\n",
    "\n",
    "df['BETA'] = talib.BETA(high, low, timeperiod=5)\n",
    "df['CORREL'] = talib.CORREL(high, low, timeperiod=30)\n",
    "\n",
    "df['LINEARREG_ANGLE'] = talib.LINEARREG_ANGLE(close, timeperiod=14)\n"
   ]
  },
  {
   "cell_type": "code",
   "execution_count": 76,
   "metadata": {
    "ExecuteTime": {
     "end_time": "2024-05-17T13:45:17.578797600Z",
     "start_time": "2024-05-17T13:45:16.736593800Z"
    },
    "collapsed": false
   },
   "outputs": [],
   "source": [
    "\n",
    "diff = (df['high'] - df['low'])\n",
    "#\n",
    "diff =diff.median()\n",
    "pipdiff = diff\n",
    "SLTPRatio = 2   \n",
    "\n",
    "\n",
    "def mytarget(barsupfront, df1):\n",
    "    length = len(df1)\n",
    "    high = list(df1['high'])\n",
    "    low = list(df1['low'])\n",
    "    close = list(df1['close'])\n",
    "    open = list(df1['open'])\n",
    "    trendcat = [None] * length\n",
    "\n",
    "    for line in range(0, length - barsupfront - 2):\n",
    "        valueOpenLow = 0\n",
    "        valueOpenHigh = 0\n",
    "        for i in range(1, barsupfront + 2):\n",
    "            value1 = open[line + 1] - low[line + i]\n",
    "            value2 = open[line + 1] - high[line + i]\n",
    "            valueOpenLow = max(value1, valueOpenLow)\n",
    "            valueOpenHigh = min(value2, valueOpenHigh)\n",
    "\n",
    "            if ((valueOpenLow >= pipdiff) and (-valueOpenHigh <= (pipdiff / SLTPRatio))):\n",
    "                trendcat[line] = 1  #  downtrend\n",
    "                break\n",
    "            elif ((valueOpenLow <= (pipdiff / SLTPRatio)) and (-valueOpenHigh >= pipdiff)):\n",
    "                trendcat[line] = 2  # uptrend\n",
    "                break\n",
    "            else:\n",
    "                trendcat[line] = 0  # no clear trend\n",
    "\n",
    "    return trendcat\n",
    "df['mytarget'] = mytarget(4, df) \n",
    "df.to_csv('target.csv',index =False)"
   ]
  },
  {
   "cell_type": "code",
   "execution_count": 77,
   "metadata": {
    "ExecuteTime": {
     "end_time": "2024-05-17T13:45:17.616325300Z",
     "start_time": "2024-05-17T13:45:17.585801400Z"
    },
    "collapsed": false
   },
   "outputs": [],
   "source": [
    "features = sorted([\n",
    "    'ADX',\n",
    "    'ADXR',\n",
    "    'APO',\n",
    "    'AROON_aroondown',\n",
    "    'AROON_aroonup',\n",
    "    'AROONOSC',\n",
    "    'CCI',\n",
    "    'DX',\n",
    "    'MACD_macd',\n",
    "    'MACD_macdsignal',\n",
    "    'MACD_macdhist',\n",
    "    'MFI',\n",
    "    'MOM',\n",
    "    'RSI',\n",
    "    'STOCH_slowk',\n",
    "    'STOCH_slowd',\n",
    "    'STOCHF_fastk',\n",
    "\n",
    "    'ULTOSC',\n",
    "    'WILLR',\n",
    "\n",
    "    'HT_DCPERIOD',\n",
    "    'HT_DCPHASE',\n",
    "    'HT_PHASOR_inphase',\n",
    "    'HT_PHASOR_quadrature',\n",
    "    'HT_TRENDMODE',\n",
    "    'BETA',\n",
    "    'LINEARREG',\n",
    "    'LINEARREG_ANGLE',\n",
    "    'LINEARREG_INTERCEPT',\n",
    "    'LINEARREG_SLOPE',\n",
    "    'STDDEV',\n",
    "    'BBANDS_upperband',\n",
    "    'BBANDS_middleband',\n",
    "    'BBANDS_lowerband',\n",
    "    'DEMA',\n",
    "    'EMA',\n",
    "    'HT_TRENDLINE',\n",
    "    'KAMA',\n",
    "    'MA',\n",
    "    'MIDPOINT',\n",
    "    'T3',\n",
    "    'TEMA',\n",
    "    'TRIMA',\n",
    "    'WMA',\n",
    "])\n",
    "df = df.dropna()\n",
    "X = df[features]\n",
    "y = df[\"mytarget\"]\n"
   ]
  },
  {
   "cell_type": "code",
   "execution_count": 78,
   "metadata": {
    "ExecuteTime": {
     "end_time": "2024-05-17T13:45:19.175304900Z",
     "start_time": "2024-05-17T13:45:17.615324900Z"
    },
    "collapsed": false
   },
   "outputs": [],
   "source": [
    "from sklearn.model_selection import train_test_split\n",
    "from sklearn.preprocessing import StandardScaler\n",
    "X_train, X_test, y_train, y_test = train_test_split(X, y, test_size=0.2, random_state=1)  \n",
    "# Standardize the features\n",
    "scaler = StandardScaler()\n",
    "X_train = scaler.fit_transform(X_train)\n",
    "X_test = scaler.transform(X_test)"
   ]
  },
  {
   "cell_type": "code",
   "execution_count": 79,
   "metadata": {
    "ExecuteTime": {
     "end_time": "2024-05-17T13:45:21.756703200Z",
     "start_time": "2024-05-17T13:45:19.176304300Z"
    },
    "collapsed": false
   },
   "outputs": [
    {
     "name": "stdout",
     "output_type": "stream",
     "text": [
      "Accuracy: 64.4037%\n",
      "              precision    recall  f1-score   support\n",
      "\n",
      "           0       0.93      0.68      0.79      1455\n",
      "           1       0.11      0.35      0.17        88\n",
      "           2       0.10      0.33      0.16        92\n",
      "\n",
      "    accuracy                           0.64      1635\n",
      "   macro avg       0.38      0.45      0.37      1635\n",
      "weighted avg       0.84      0.64      0.72      1635\n",
      "\n",
      "----------------------------\n"
     ]
    }
   ],
   "source": [
    "from xgboost import XGBClassifier\n",
    "from sklearn.metrics import accuracy_score\n",
    "from sklearn.metrics import classification_report\n",
    "xgbmodel = XGBClassifier()\n",
    "xgbmodel.fit(X_train, y_train)\n",
    "pred_test = xgbmodel.predict(X_test)\n",
    "acc_test = accuracy_score(y_test, pred_test)\n",
    "print(\"Accuracy: {:.4%}\".format(acc_test))\n",
    "print(classification_report(pred_test,y_test))\n",
    "print('----------------------------')"
   ]
  },
  {
   "cell_type": "code",
   "execution_count": 80,
   "metadata": {},
   "outputs": [
    {
     "name": "stdout",
     "output_type": "stream",
     "text": [
      "Mean Squared Error: 0.7859327217125383\n",
      "Accuracy: 0.37920489296636084\n"
     ]
    }
   ],
   "source": [
    "from sklearn.linear_model import LinearRegression\n",
    "from sklearn.metrics import mean_squared_error\n",
    "lnmodel = LinearRegression()\n",
    "lnmodel.fit(X_train, y_train)\n",
    "y_pred = lnmodel.predict(X_test)\n",
    "y_pred = np.round(y_pred)\n",
    "# Đánh giá mô hình\n",
    "mse = mean_squared_error(y_test, y_pred)\n",
    "acc = accuracy_score(y_test, y_pred)\n",
    "print(\"Mean Squared Error:\", mse)\n",
    "print(\"Accuracy:\", acc)"
   ]
  },
  {
   "cell_type": "code",
   "execution_count": 81,
   "metadata": {},
   "outputs": [
    {
     "name": "stdout",
     "output_type": "stream",
     "text": [
      "Accuracy: 65.63%\n",
      "              precision    recall  f1-score   support\n",
      "\n",
      "         0.0       0.66      1.00      0.79      1072\n",
      "         1.0       1.00      0.00      0.01       273\n",
      "         2.0       0.00      0.00      0.00       290\n",
      "\n",
      "    accuracy                           0.66      1635\n",
      "   macro avg       0.55      0.33      0.27      1635\n",
      "weighted avg       0.60      0.66      0.52      1635\n",
      "\n"
     ]
    },
    {
     "name": "stderr",
     "output_type": "stream",
     "text": [
      "c:\\Users\\Admin\\anaconda3\\envs\\ta-lib-env\\lib\\site-packages\\sklearn\\metrics\\_classification.py:1509: UndefinedMetricWarning:\n",
      "\n",
      "Precision is ill-defined and being set to 0.0 in labels with no predicted samples. Use `zero_division` parameter to control this behavior.\n",
      "\n",
      "c:\\Users\\Admin\\anaconda3\\envs\\ta-lib-env\\lib\\site-packages\\sklearn\\metrics\\_classification.py:1509: UndefinedMetricWarning:\n",
      "\n",
      "Precision is ill-defined and being set to 0.0 in labels with no predicted samples. Use `zero_division` parameter to control this behavior.\n",
      "\n",
      "c:\\Users\\Admin\\anaconda3\\envs\\ta-lib-env\\lib\\site-packages\\sklearn\\metrics\\_classification.py:1509: UndefinedMetricWarning:\n",
      "\n",
      "Precision is ill-defined and being set to 0.0 in labels with no predicted samples. Use `zero_division` parameter to control this behavior.\n",
      "\n"
     ]
    }
   ],
   "source": [
    "from sklearn.linear_model import LogisticRegression\n",
    "from sklearn.metrics import accuracy_score, classification_report\n",
    "\n",
    "# Initialize the logistic regression model with softmax (multi_class='multinomial')\n",
    "smmodel = LogisticRegression(multi_class='multinomial', solver='lbfgs', max_iter=200)\n",
    "\n",
    "# Train the model\n",
    "smmodel.fit(X_train, y_train)\n",
    "\n",
    "# Make predictions on the test set\n",
    "y_pred = smmodel.predict(X_test)\n",
    "\n",
    "# Evaluate the model\n",
    "accuracy = accuracy_score(y_test, y_pred)\n",
    "print(f\"Accuracy: {accuracy * 100:.2f}%\") \n",
    "\n",
    "# Print classification report\n",
    "print(classification_report(y_test, y_pred))"
   ]
  },
  {
   "cell_type": "code",
   "execution_count": 82,
   "metadata": {},
   "outputs": [
    {
     "name": "stdout",
     "output_type": "stream",
     "text": [
      "Accuracy: 49.36%\n",
      "              precision    recall  f1-score   support\n",
      "\n",
      "         0.0       0.69      0.60      0.64      1072\n",
      "         1.0       0.20      0.23      0.21       273\n",
      "         2.0       0.27      0.35      0.30       290\n",
      "\n",
      "    accuracy                           0.49      1635\n",
      "   macro avg       0.38      0.39      0.38      1635\n",
      "weighted avg       0.53      0.49      0.51      1635\n",
      "\n"
     ]
    }
   ],
   "source": [
    "from sklearn.naive_bayes import GaussianNB\n",
    "# Initialize the Gaussian Naive Bayes model\n",
    "nbmodel = GaussianNB()\n",
    "\n",
    "# Train the model\n",
    "nbmodel.fit(X_train, y_train)\n",
    "\n",
    "# Make predictions on the test set\n",
    "y_pred = nbmodel.predict(X_test)\n",
    "\n",
    "# Evaluate the model\n",
    "accuracy = accuracy_score(y_test, y_pred)\n",
    "print(f\"Accuracy: {accuracy * 100:.2f}%\") \n",
    "\n",
    "# Print classification report\n",
    "print(classification_report(y_test, y_pred))"
   ]
  },
  {
   "cell_type": "code",
   "execution_count": 83,
   "metadata": {},
   "outputs": [
    {
     "name": "stdout",
     "output_type": "stream",
     "text": [
      "Accuracy: 55.84%\n",
      "              precision    recall  f1-score   support\n",
      "\n",
      "         0.0       0.71      0.70      0.71      1072\n",
      "         1.0       0.28      0.27      0.27       273\n",
      "         2.0       0.27      0.30      0.28       290\n",
      "\n",
      "    accuracy                           0.56      1635\n",
      "   macro avg       0.42      0.42      0.42      1635\n",
      "weighted avg       0.56      0.56      0.56      1635\n",
      "\n"
     ]
    }
   ],
   "source": [
    "import matplotlib.pyplot as plt\n",
    "from sklearn.tree import DecisionTreeClassifier\n",
    "from sklearn.metrics import accuracy_score\n",
    "from sklearn import tree\n",
    "\n",
    "# Khởi tạo mô hình Decision Tree\n",
    "clf = DecisionTreeClassifier(random_state=42)\n",
    "\n",
    "# Huấn luyện mô hình trên tập huấn luyện\n",
    "clf.fit(X_train, y_train)\n",
    "\n",
    "# Dự đoán trên tập kiểm tra\n",
    "y_pred = clf.predict(X_test)\n",
    "\n",
    "# Tính độ chính xác của mô hình\n",
    "accuracy = accuracy_score(y_test, y_pred)\n",
    "print(f\"Accuracy: {accuracy * 100:.2f}%\") \n",
    "# Print classification report\n",
    "print(classification_report(y_test, y_pred))"
   ]
  },
  {
   "cell_type": "code",
   "execution_count": 84,
   "metadata": {},
   "outputs": [
    {
     "name": "stdout",
     "output_type": "stream",
     "text": [
      "Accuracy: 65.50%\n",
      "              precision    recall  f1-score   support\n",
      "\n",
      "         0.0       0.66      0.98      0.79      1072\n",
      "         1.0       0.56      0.05      0.09       273\n",
      "         2.0       0.28      0.02      0.03       290\n",
      "\n",
      "    accuracy                           0.66      1635\n",
      "   macro avg       0.50      0.35      0.31      1635\n",
      "weighted avg       0.58      0.66      0.54      1635\n",
      "\n"
     ]
    }
   ],
   "source": [
    "from sklearn.ensemble import RandomForestClassifier\n",
    "\n",
    "# Initialize the Random Forest classifier\n",
    "rfmodel = RandomForestClassifier(n_estimators=100, random_state=42)\n",
    "\n",
    "# Train the model\n",
    "rfmodel.fit(X_train, y_train)\n",
    "\n",
    "# Make predictions on the test set\n",
    "y_pred = rfmodel.predict(X_test)\n",
    "\n",
    "# Evaluate the model\n",
    "accuracy = accuracy_score(y_test, y_pred)\n",
    "print(f\"Accuracy: {accuracy * 100:.2f}%\") \n",
    "\n",
    "# Print classification report\n",
    "print(classification_report(y_test, y_pred))"
   ]
  },
  {
   "cell_type": "code",
   "execution_count": 91,
   "metadata": {
    "ExecuteTime": {
     "end_time": "2024-05-17T13:45:24.233284600Z",
     "start_time": "2024-05-17T13:45:24.176092700Z"
    },
    "collapsed": false
   },
   "outputs": [],
   "source": [
    "## Lưu lại model đã train , để cập nhật model thì chỉ cần dùng đến chúc năng Save Model là được.\n",
    "import joblib\n",
    "\n",
    "# Save Model\n",
    "filename = 'mymodel1.sav'\n",
    "joblib.dump(xgbmodel, filename)\n",
    "\n",
    "# # load the model from disk\n",
    "loaded_model = joblib.load('mymodel1.sav')"
   ]
  },
  {
   "cell_type": "code",
   "execution_count": 94,
   "metadata": {
    "ExecuteTime": {
     "end_time": "2024-05-17T13:46:05.997628800Z",
     "start_time": "2024-05-17T13:45:25.284734400Z"
    },
    "collapsed": false
   },
   "outputs": [
    {
     "name": "stdout",
     "output_type": "stream",
     "text": [
      "Số lần mua : 148 Số lần bán : 148 Số lần giữ : 5681\n",
      "Số dư tài khoản hiện có : 10814.794604881574\n"
     ]
    },
    {
     "data": {
      "image/png": "[encoded data removed]",
      "text/plain": [
       "<Figure size 640x480 with 1 Axes>"
      ]
     },
     "metadata": {},
     "output_type": "display_data"
    },
    {
     "data": {
      "image/png": "[encoded data removed]",
      "text/plain": [
       "<Figure size 640x480 with 1 Axes>"
      ]
     },
     "metadata": {},
     "output_type": "display_data"
    },
    {
     "name": "stdout",
     "output_type": "stream",
     "text": [
      "17344.494118885334\n"
     ]
    }
   ],
   "source": [
    "import matplotlib.pyplot as plt\n",
    "\n",
    "balance = 100.00\n",
    "tokenunit = 0.00\n",
    "dif = []\n",
    "dif.append(100)\n",
    "buy = True\n",
    "buys =[]\n",
    "sells = []\n",
    "count0 = 0\n",
    "count1 = 0\n",
    "count2 = 0\n",
    "sum =0\n",
    "for i in range(len(df)) :\n",
    "    X_stream  = df.iloc[[i]]\n",
    "    X_model = X_stream[features]\n",
    "    \n",
    "    ModelPrediction = loaded_model.predict(X_model)\n",
    "    #Buy Signal\n",
    "    if ModelPrediction == 2 and buy == True :\n",
    "         tokenunit = balance/(df['close'].iloc[i]+ df['close'].iloc[i]*0.0005)\n",
    "         buys.append([df['time'].iloc[i],df['close'].iloc[i],balance])\n",
    "         buy = False\n",
    "         count2 = count2 +1\n",
    "    # if balance-balance*0.3 > tokenunit*(df['close'].iloc[i] - df['close'].iloc[i]*0.0005) and buy == False:\n",
    "    #     balance = tokenunit*(df['close'].iloc[i] - df['close'].iloc[i]*0.0005)\n",
    "    #     sells.append([df['time'].iloc[i],df['close'].iloc[i],balance])\n",
    "    #     tokenunit=0\n",
    "    #     sum = sum +1\n",
    "    #     i+= 34\n",
    "    #     buy = True\n",
    "    if ModelPrediction == 1 and buy == False :\n",
    "        balance = tokenunit*(df['close'].iloc[i] - df['close'].iloc[i]*0.0005)\n",
    "        dif.append(balance)\n",
    "        sells.append([df['time'].iloc[i],df['close'].iloc[i],balance])\n",
    "        tokenunit=0\n",
    "        sum = sum +1\n",
    "        buy = True\n",
    "        count1 = count1 +1\n",
    "    if ModelPrediction == 0 :\n",
    "        count0 = count0 +1\n",
    "\n",
    "print(\"Số lần mua :\",count2,\"Số lần bán :\",count1,\"Số lần giữ :\",count0)\n",
    "win = 0\n",
    "profit = []\n",
    "for i in range(len(sells)) :\n",
    "    profit.append(sells[i][2] - buys[i][2])\n",
    "    if profit[i] > 0 :\n",
    "        win = win +1\n",
    "print(\"Số dư tài khoản hiện có :\",balance)\n",
    "plt.plot(profit)\n",
    "plt.ylabel('Profit')\n",
    "plt.xlabel('Trade')\n",
    "\n",
    "plt.show()\n",
    "\n",
    "plt.plot(dif)\n",
    "plt.ylabel('Balance')\n",
    "plt.xlabel('Trade')\n",
    "plt.show()\n",
    "print(max(dif))"
   ]
  },
  {
   "cell_type": "code",
   "execution_count": 87,
   "metadata": {
    "ExecuteTime": {
     "end_time": "2024-05-17T13:46:07.264657800Z",
     "start_time": "2024-05-17T13:46:06.005754800Z"
    },
    "collapsed": false
   },
   "outputs": [
    {
     "ename": "ValueError",
     "evalue": "Mime type rendering requires nbformat>=4.2.0 but it is not installed",
     "output_type": "error",
     "traceback": [
      "\u001b[1;31m---------------------------------------------------------------------------\u001b[0m",
      "\u001b[1;31mValueError\u001b[0m                                Traceback (most recent call last)",
      "Cell \u001b[1;32mIn[87], line 27\u001b[0m\n\u001b[0;32m     22\u001b[0m fig\u001b[38;5;241m.\u001b[39madd_trace(go\u001b[38;5;241m.\u001b[39mScatter(x\u001b[38;5;241m=\u001b[39mselledt, y\u001b[38;5;241m=\u001b[39mselledp, mode\u001b[38;5;241m=\u001b[39m\u001b[38;5;124m'\u001b[39m\u001b[38;5;124mmarkers\u001b[39m\u001b[38;5;124m'\u001b[39m, marker\u001b[38;5;241m=\u001b[39m\u001b[38;5;28mdict\u001b[39m(color\u001b[38;5;241m=\u001b[39m\u001b[38;5;124m'\u001b[39m\u001b[38;5;124mred\u001b[39m\u001b[38;5;124m'\u001b[39m), name\u001b[38;5;241m=\u001b[39m\u001b[38;5;124m'\u001b[39m\u001b[38;5;124mBán\u001b[39m\u001b[38;5;124m'\u001b[39m))\n\u001b[0;32m     25\u001b[0m fig\u001b[38;5;241m.\u001b[39mupdate_layout(title\u001b[38;5;241m=\u001b[39m\u001b[38;5;124m'\u001b[39m\u001b[38;5;124mBiểu đồ nến với điểm mua và bán\u001b[39m\u001b[38;5;124m'\u001b[39m, yaxis_title\u001b[38;5;241m=\u001b[39m\u001b[38;5;124m'\u001b[39m\u001b[38;5;124mGiá\u001b[39m\u001b[38;5;124m'\u001b[39m)\n\u001b[1;32m---> 27\u001b[0m \u001b[43mfig\u001b[49m\u001b[38;5;241;43m.\u001b[39;49m\u001b[43mshow\u001b[49m\u001b[43m(\u001b[49m\u001b[43m)\u001b[49m\n",
      "File \u001b[1;32mc:\\Users\\Admin\\anaconda3\\envs\\ta-lib-env\\lib\\site-packages\\plotly\\basedatatypes.py:3410\u001b[0m, in \u001b[0;36mBaseFigure.show\u001b[1;34m(self, *args, **kwargs)\u001b[0m\n\u001b[0;32m   3377\u001b[0m \u001b[38;5;250m\u001b[39m\u001b[38;5;124;03m\"\"\"\u001b[39;00m\n\u001b[0;32m   3378\u001b[0m \u001b[38;5;124;03mShow a figure using either the default renderer(s) or the renderer(s)\u001b[39;00m\n\u001b[0;32m   3379\u001b[0m \u001b[38;5;124;03mspecified by the renderer argument\u001b[39;00m\n\u001b[1;32m   (...)\u001b[0m\n\u001b[0;32m   3406\u001b[0m \u001b[38;5;124;03mNone\u001b[39;00m\n\u001b[0;32m   3407\u001b[0m \u001b[38;5;124;03m\"\"\"\u001b[39;00m\n\u001b[0;32m   3408\u001b[0m \u001b[38;5;28;01mimport\u001b[39;00m \u001b[38;5;21;01mplotly\u001b[39;00m\u001b[38;5;21;01m.\u001b[39;00m\u001b[38;5;21;01mio\u001b[39;00m \u001b[38;5;28;01mas\u001b[39;00m \u001b[38;5;21;01mpio\u001b[39;00m\n\u001b[1;32m-> 3410\u001b[0m \u001b[38;5;28;01mreturn\u001b[39;00m pio\u001b[38;5;241m.\u001b[39mshow(\u001b[38;5;28mself\u001b[39m, \u001b[38;5;241m*\u001b[39margs, \u001b[38;5;241m*\u001b[39m\u001b[38;5;241m*\u001b[39mkwargs)\n",
      "File \u001b[1;32mc:\\Users\\Admin\\anaconda3\\envs\\ta-lib-env\\lib\\site-packages\\plotly\\io\\_renderers.py:394\u001b[0m, in \u001b[0;36mshow\u001b[1;34m(fig, renderer, validate, **kwargs)\u001b[0m\n\u001b[0;32m    389\u001b[0m         \u001b[38;5;28;01mraise\u001b[39;00m \u001b[38;5;167;01mValueError\u001b[39;00m(\n\u001b[0;32m    390\u001b[0m             \u001b[38;5;124m\"\u001b[39m\u001b[38;5;124mMime type rendering requires ipython but it is not installed\u001b[39m\u001b[38;5;124m\"\u001b[39m\n\u001b[0;32m    391\u001b[0m         )\n\u001b[0;32m    393\u001b[0m     \u001b[38;5;28;01mif\u001b[39;00m \u001b[38;5;129;01mnot\u001b[39;00m nbformat \u001b[38;5;129;01mor\u001b[39;00m Version(nbformat\u001b[38;5;241m.\u001b[39m__version__) \u001b[38;5;241m<\u001b[39m Version(\u001b[38;5;124m\"\u001b[39m\u001b[38;5;124m4.2.0\u001b[39m\u001b[38;5;124m\"\u001b[39m):\n\u001b[1;32m--> 394\u001b[0m         \u001b[38;5;28;01mraise\u001b[39;00m \u001b[38;5;167;01mValueError\u001b[39;00m(\n\u001b[0;32m    395\u001b[0m             \u001b[38;5;124m\"\u001b[39m\u001b[38;5;124mMime type rendering requires nbformat>=4.2.0 but it is not installed\u001b[39m\u001b[38;5;124m\"\u001b[39m\n\u001b[0;32m    396\u001b[0m         )\n\u001b[0;32m    398\u001b[0m     ipython_display\u001b[38;5;241m.\u001b[39mdisplay(bundle, raw\u001b[38;5;241m=\u001b[39m\u001b[38;5;28;01mTrue\u001b[39;00m)\n\u001b[0;32m    400\u001b[0m \u001b[38;5;66;03m# external renderers\u001b[39;00m\n",
      "\u001b[1;31mValueError\u001b[0m: Mime type rendering requires nbformat>=4.2.0 but it is not installed"
     ]
    }
   ],
   "source": [
    "buyedp =[]\n",
    "buyedt = []\n",
    "selledp =[]\n",
    "selledt = []\n",
    "for i in range(len(buys)) :\n",
    "    buyedp.append(buys[i][1])\n",
    "    buyedt.append(buys[i][0])\n",
    "for i in range(len(sells)) :\n",
    "    selledp.append(sells[i][1])\n",
    "    selledt.append(sells[i][0])\n",
    "\n",
    "import plotly.graph_objects as go\n",
    "import numpy as np\n",
    "import plotly.express as px\n",
    "import pandas as pd\n",
    "fig = go.Figure(data=[go.Candlestick(x=df1['time'],\n",
    "                                     open=df1['open'],\n",
    "                                     high=df1['high'],\n",
    "                                     low=df1['low'],\n",
    "                                     close=df1['close'])])\n",
    "fig.add_trace(go.Scatter(x=buyedt, y=buyedp, mode='markers', marker=dict(color='blue'), name='Mua'))\n",
    "fig.add_trace(go.Scatter(x=selledt, y=selledp, mode='markers', marker=dict(color='red'), name='Bán'))\n",
    "fig.update_layout(title='Biểu đồ nến với điểm mua và bán', yaxis_title='Giá')\n",
    "fig.show()\n"
   ]
  },
  {
   "cell_type": "code",
   "execution_count": null,
   "metadata": {
    "ExecuteTime": {
     "end_time": "2024-05-17T13:46:07.279658900Z",
     "start_time": "2024-05-17T13:46:07.268658800Z"
    },
    "collapsed": false
   },
   "outputs": [],
   "source": [
    "## token cung he thi co the dung chung model \n",
    "## TEST voi same model thi chinh ngay du lieu train =/ test \n",
    "## Cac coin cung loai vi du btc eth cung 1 tang , sol near link ... cung 1 tang co the dung chung model \n",
    "## Trade altcoin thi tot nhat nen them SL = 10-30%  \n",
    "## Viec chon data train rat quan trong => nen chon data train co du xu huong tang giam ro rang  vi du BTC ~ \n",
    "start_str = 'Jan 1 2021' \n",
    "end_str = 'Jul 15 2022' \n",
    "# 0.4967 16:18 Gia du dooan down "
   ]
  }
 ],
 "metadata": {
  "kernelspec": {
   "display_name": "Python 3",
   "language": "python",
   "name": "python3"
  },
  "language_info": {
   "codemirror_mode": {
    "name": "ipython",
    "version": 3
   },
   "file_extension": ".py",
   "mimetype": "text/x-python",
   "name": "python",
   "nbconvert_exporter": "python",
   "pygments_lexer": "ipython3",
   "version": "3.10.14"
  }
 },
 "nbformat": 4,
 "nbformat_minor": 0
}
