{
 "cells": [
  {
   "cell_type": "code",
   "execution_count": null,
   "metadata": {},
   "outputs": [],
   "source": [
    "from binance.spot import Spot as Client\n",
    "client = Client(\"JLCON0ZJ9v4zX595o2W1rlvSIhIercTu2ugNLCMPZ88QAt8zvSe2vY3LDiiRjKMB\",\n",
    "                \"JMnozKSUlep8mBrXCW1b7mAdHDl5qcYv3GDfNOquyifCdbD4QmGXILR9A5V0FgKf\",base_url=\"https://testnet.binance.vision\",\n",
    "                )\n"
   ]
  },
  {
   "cell_type": "code",
   "execution_count": null,
   "metadata": {},
   "outputs": [],
   "source": [
    "account = Client.account(self=client)\n",
    "print(account)"
   ]
  },
  {
   "cell_type": "code",
   "execution_count": null,
   "metadata": {},
   "outputs": [],
   "source": [
    "import numpy as np\n",
    "import pandas as pd\n",
    "from binance.enums import *\n",
    "import talib \n",
    "from datetime import datetime\n",
    "import joblib\n",
    "import math\n",
    "loaded_model = joblib.load('mymodel1.sav')"
   ]
  },
  {
   "cell_type": "code",
   "execution_count": null,
   "metadata": {},
   "outputs": [],
   "source": [
    "def balanceOf(symbol):\n",
    "    account = Client.account(self=client)\n",
    "\n",
    "    balances = account['balances']\n",
    "\n",
    "    for balance in balances:\n",
    "        if balance['asset'] == symbol:\n",
    "            return (float)(balance['free'])"
   ]
  },
  {
   "cell_type": "code",
   "execution_count": null,
   "metadata": {},
   "outputs": [],
   "source": [
    "def balanceOf(client, symbol):\n",
    "    account = Client.account(self=client)\n",
    "    balances = account['balances']\n",
    "\n",
    "    for balance in balances:\n",
    "        if balance['asset'] == symbol:\n",
    "            return (float)(balance['free'])\n",
    "\n",
    "\n",
    "# #Check Order\n",
    "def checkOrder(client, symbol):\n",
    "    check = False\n",
    "    order = client.get_orders(symbol=symbol, limit=1)\n",
    "\n",
    "    if order:\n",
    "        last_order = order[0]\n",
    "        if last_order['status'] == 'FILLED':\n",
    "            check = True\n",
    "            return check\n",
    "\n",
    "        else:\n",
    "            check = False\n",
    "            return check\n",
    "\n",
    "\n",
    "# Take Buy Order\n",
    "def takeBuyOrder(client, symbol, quantity):\n",
    "    # quantity = round(round(balanceOf(\"USDT\"),-1)/(float)(client.ticker_price(symbol=f\"{symbol}USDT\")['price']),1)\n",
    "    symbol = f\"{symbol}USDT\"\n",
    "\n",
    "    order = client.new_order(symbol=symbol, quantity=quantity, side='BUY', type='MARKET')\n",
    "\n",
    "\n",
    "def takeSellOrder(client, symbol, quantity):\n",
    "    # quantity = round(balanceOf(symbol)-0.1,1)\n",
    "    symbol = f\"{symbol}USDT\"\n",
    "\n",
    "    order = client.new_order(symbol=\"BTCUSDT\", quantity=quantity, side='SELL', type='MARKET')\n"
   ]
  },
  {
   "cell_type": "code",
   "execution_count": null,
   "metadata": {},
   "outputs": [],
   "source": [
    "checkOrder(client,'DYDXUSDT')"
   ]
  },
  {
   "cell_type": "code",
   "execution_count": null,
   "metadata": {},
   "outputs": [],
   "source": [
    "takeBuyOrder(client,'DYDX','10')"
   ]
  },
  {
   "cell_type": "code",
   "execution_count": null,
   "metadata": {},
   "outputs": [],
   "source": [
    "takeSellOrder(client,'DYDX','SELL','10')"
   ]
  },
  {
   "cell_type": "code",
   "execution_count": null,
   "metadata": {},
   "outputs": [],
   "source": [
    "order = client.get_orders(symbol=\"DYDXUSDT\", limit=1)\n",
    "print(order)"
   ]
  },
  {
   "cell_type": "code",
   "execution_count": null,
   "metadata": {},
   "outputs": [],
   "source": [
    "balanceOf(client,\"USDT\")"
   ]
  },
  {
   "cell_type": "markdown",
   "metadata": {},
   "source": []
  }
 ],
 "metadata": {
  "kernelspec": {
   "display_name": "base",
   "language": "python",
   "name": "python3"
  },
  "language_info": {
   "codemirror_mode": {
    "name": "ipython",
    "version": 3
   },
   "file_extension": ".py",
   "mimetype": "text/x-python",
   "name": "python",
   "nbconvert_exporter": "python",
   "pygments_lexer": "ipython3",
   "version": "3.9.12"
  },
  "orig_nbformat": 4
 },
 "nbformat": 4,
 "nbformat_minor": 2
}
